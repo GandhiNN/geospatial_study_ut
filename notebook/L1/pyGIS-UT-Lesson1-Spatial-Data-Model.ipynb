{
 "cells": [
  {
   "cell_type": "markdown",
   "metadata": {},
   "source": [
    "## Geometric Objects - Spatial Data Model\n",
    "The most fundamental geometric objects are **Points**, **Lines**, and **Polygons**.  \n",
    "Python has `shapely` module that can be used to create and work with them.  \n",
    "Examples of _geometric object operations_ are:\n",
    "1. Create a *Line* or *Polygon* from a _Collection_ of *Points* geometries\n",
    "2. Calculate areas/lengths/bounds etc. of input geometries\n",
    "3. Make geometric operations based on the input geometries such as **Union**, **Difference**, **Distance** etc.\n",
    "4. Make spatial queries between geometries such as **Intersects**, **Touches**, **Crosses**, **Within** etc."
   ]
  },
  {
   "cell_type": "markdown",
   "metadata": {},
   "source": [
    "### Geometric Objects Tuples\n",
    "* **Point** : The coordinate tuple\n",
    "* **LineString** : A list of at least two coordinate tuples\n",
    "* **Polygon** : A list of at least three coordinate tuples that forms the outerior ring and a possible list of hole polygons (i.e the first and last element of the tuples must be the same)"
   ]
  },
  {
   "cell_type": "markdown",
   "metadata": {},
   "source": [
    "#### Point"
   ]
  },
  {
   "cell_type": "code",
   "execution_count": 1,
   "metadata": {},
   "outputs": [],
   "source": [
    "# import necessary module\n",
    "from shapely.geometry import Point, LineString, Polygon\n",
    "\n",
    "# create point geometric object(s) with coordinates\n",
    "point1 = Point(2.2, 4.2)\n",
    "point2 = Point(7.2, -25.1)\n",
    "point3 = Point(9.26, -2.456)\n",
    "point3D = Point(9.26, -2.456, 0.57)\n",
    "\n",
    "# what is the type of the point?\n",
    "point_type = type(point1)"
   ]
  },
  {
   "cell_type": "code",
   "execution_count": 2,
   "metadata": {},
   "outputs": [
    {
     "name": "stdout",
     "output_type": "stream",
     "text": [
      "POINT (2.2 4.2)\n",
      "POINT Z (9.26 -2.456 0.57)\n",
      "<class 'shapely.geometry.point.Point'>\n"
     ]
    }
   ],
   "source": [
    "print(point1)\n",
    "print(point3D)\n",
    "print(type(point1))"
   ]
  },
  {
   "cell_type": "markdown",
   "metadata": {},
   "source": [
    "#### Point Attributes and Functions"
   ]
  },
  {
   "cell_type": "code",
   "execution_count": 3,
   "metadata": {},
   "outputs": [
    {
     "data": {
      "text/plain": [
       "shapely.coords.CoordinateSequence"
      ]
     },
     "execution_count": 3,
     "metadata": {},
     "output_type": "execute_result"
    }
   ],
   "source": [
    "# Get the coordinates\n",
    "point_coords = point1.coords\n",
    "\n",
    "# What is the type of this?\n",
    "type(point_coords)"
   ]
  },
  {
   "cell_type": "code",
   "execution_count": 4,
   "metadata": {},
   "outputs": [],
   "source": [
    "# Get the x and y coordinates\n",
    "xy = point_coords.xy\n",
    "\n",
    "# Get only x coordinates of Point1\n",
    "x = point1.x\n",
    "\n",
    "# What about y coordinate?\n",
    "y = point1.y"
   ]
  },
  {
   "cell_type": "code",
   "execution_count": 5,
   "metadata": {},
   "outputs": [
    {
     "name": "stdout",
     "output_type": "stream",
     "text": [
      "(array('d', [2.2]), array('d', [4.2]))\n",
      "<class 'tuple'>\n",
      "2.2\n",
      "4.2\n"
     ]
    }
   ],
   "source": [
    "# What is inside?\n",
    "print(xy)\n",
    "print(type(xy))\n",
    "print(x)\n",
    "print(y)"
   ]
  },
  {
   "cell_type": "code",
   "execution_count": 6,
   "metadata": {},
   "outputs": [
    {
     "name": "stdout",
     "output_type": "stream",
     "text": [
      "Distance between the points is 29.72 decimal degrees\n"
     ]
    }
   ],
   "source": [
    "# Calculate the distance between point1 and point2\n",
    "point_dist = point1.distance(point2)\n",
    "print(\"Distance between the points is {0:.2f} decimal degrees\".format(point_dist))"
   ]
  },
  {
   "cell_type": "markdown",
   "metadata": {},
   "source": [
    "**Side note regarding GIS distance**  \n",
    "Since earth is not a sphere but rather a 'geoid' (i.e. a bubbly space rock), then the most widely used distance approximation is ellipsoid \"WGS84\"."
   ]
  },
  {
   "cell_type": "code",
   "execution_count": 7,
   "metadata": {},
   "outputs": [
    {
     "name": "stdout",
     "output_type": "stream",
     "text": [
      "3286.3538 for ellipsoid WGS84 in km\n"
     ]
    }
   ],
   "source": [
    "# with pyproj\n",
    "import pyproj\n",
    "\n",
    "geod = pyproj.Geod(ellps='WGS84')\n",
    "\n",
    "angle1, angle2, distance = geod.inv(point1.x, point1.y, point2.x, point2.y)\n",
    "\n",
    "print(\"{0:8.4f} for ellipsoid WGS84 in km\".format(distance/1000))"
   ]
  },
  {
   "cell_type": "markdown",
   "metadata": {},
   "source": [
    "### LineString"
   ]
  },
  {
   "cell_type": "code",
   "execution_count": 8,
   "metadata": {},
   "outputs": [],
   "source": [
    "# Create a LineString from our Point objects\n",
    "line = LineString([point1, point2, point3])\n",
    "\n",
    "# It is also possible to use coordinate tuples having the same outcome\n",
    "line2 = LineString([(2.2, 4.2), (7.2, -25.1), (9.26, -2.456)])"
   ]
  },
  {
   "cell_type": "code",
   "execution_count": 9,
   "metadata": {},
   "outputs": [
    {
     "name": "stdout",
     "output_type": "stream",
     "text": [
      "LINESTRING (2.2 4.2, 7.2 -25.1, 9.26 -2.456)\n",
      "LINESTRING (2.2 4.2, 7.2 -25.1, 9.26 -2.456)\n"
     ]
    },
    {
     "data": {
      "text/plain": [
       "shapely.geometry.linestring.LineString"
      ]
     },
     "execution_count": 9,
     "metadata": {},
     "output_type": "execute_result"
    }
   ],
   "source": [
    "# let's see how our LineString looks like\n",
    "print(line)\n",
    "print(line2)\n",
    "type(line)"
   ]
  },
  {
   "cell_type": "markdown",
   "metadata": {},
   "source": [
    "#### LineString attributes and functions"
   ]
  },
  {
   "cell_type": "code",
   "execution_count": 10,
   "metadata": {},
   "outputs": [
    {
     "name": "stdout",
     "output_type": "stream",
     "text": [
      "(array('d', [2.2, 7.2, 9.26]), array('d', [4.2, -25.1, -2.456]))\n"
     ]
    }
   ],
   "source": [
    "# Get x and y coordinates of the line\n",
    "lxy = line.xy\n",
    "print(lxy)"
   ]
  },
  {
   "cell_type": "code",
   "execution_count": 11,
   "metadata": {},
   "outputs": [
    {
     "name": "stdout",
     "output_type": "stream",
     "text": [
      "array('d', [2.2, 7.2, 9.26])\n",
      "array('d', [4.2, -25.1, -2.456])\n"
     ]
    }
   ],
   "source": [
    "# Extract x coordinates\n",
    "line_x = lxy[0]\n",
    "\n",
    "# Extract y coordinates straight from the LineObject\n",
    "# by referring to an array at index 1\n",
    "line_y = line.xy[1]\n",
    "\n",
    "print(line_x)\n",
    "print(line_y)"
   ]
  },
  {
   "cell_type": "code",
   "execution_count": 12,
   "metadata": {},
   "outputs": [
    {
     "name": "stdout",
     "output_type": "stream",
     "text": [
      "Length of our line: 52.46\n",
      "Centroid of our line:  POINT (6.229961354035622 -11.89241115757239)\n",
      "Type of the centroid: <class 'shapely.geometry.point.Point'>\n"
     ]
    }
   ],
   "source": [
    "# Get the length of the line\n",
    "l_length = line.length\n",
    "\n",
    "# Get the centroid of the line\n",
    "l_centroid = line.centroid\n",
    "\n",
    "# What type is the centroid?\n",
    "centroid_type = type(l_centroid)\n",
    "\n",
    "# Print the outputs\n",
    "print(\"Length of our line: {0:.2f}\".format(l_length))\n",
    "print(\"Centroid of our line: \", l_centroid)\n",
    "print(\"Type of the centroid:\", centroid_type)"
   ]
  },
  {
   "cell_type": "markdown",
   "metadata": {},
   "source": [
    "### Polygon"
   ]
  },
  {
   "cell_type": "code",
   "execution_count": 13,
   "metadata": {},
   "outputs": [
    {
     "name": "stdout",
     "output_type": "stream",
     "text": [
      "POLYGON ((2.2 4.2, 7.2 -25.1, 9.26 -2.456, 2.2 4.2))\n",
      "POLYGON ((2.2 4.2, 7.2 -25.1, 9.26 -2.456, 2.2 4.2))\n",
      "Geometry type as text: Polygon\n",
      "Geometry how Python shows it: <class 'shapely.geometry.polygon.Polygon'>\n"
     ]
    }
   ],
   "source": [
    "# Create a Polygon from the coordinates\n",
    "poly = Polygon([(2.2, 4.2), (7.2, -25.1), (9.26, -2.456)])\n",
    "\n",
    "# We can also use our previously created Point objects (same outcome)\n",
    "# --> notice that Polygon object requires x,y coordinates as input\n",
    "poly2 = Polygon([[p.x, p.y] for p in [point1, point2, point3]])\n",
    "\n",
    "# Geometry type can be accessed as a String\n",
    "poly_type = poly.geom_type\n",
    "\n",
    "# Using the Python's type function gives the type in a different format\n",
    "poly_type2 = type(poly)\n",
    "\n",
    "# Let's see how our Polygon looks like\n",
    "print(poly)\n",
    "print(poly2)\n",
    "print(\"Geometry type as text:\", poly_type)\n",
    "print(\"Geometry how Python shows it:\", poly_type2)"
   ]
  },
  {
   "cell_type": "code",
   "execution_count": 14,
   "metadata": {},
   "outputs": [],
   "source": [
    "# Let's create a bounding box of the world and make a whole in it\n",
    "# First we define our exterior\n",
    "world_exterior = [(-180, 90), (-180, -90), (180, -90), (180, 90)]\n",
    "\n",
    "# Let's create a single big hole where we leave ten decimal degrees at\n",
    "# the boundaries of the world. Notice: there could be multiple holes,\n",
    "# thus we need to provide a list of holes\n",
    "hole = [[(-170, 80), (-170, -80), (170, 80), (170, 80)]]\n",
    "\n",
    "# World without a hole\n",
    "world = Polygon(shell=world_exterior)\n",
    "\n",
    "# Now we can construct our Polygon with the hole inside\n",
    "world_has_a_hole = Polygon(shell=world_exterior, holes=hole)"
   ]
  },
  {
   "cell_type": "code",
   "execution_count": 15,
   "metadata": {},
   "outputs": [
    {
     "name": "stdout",
     "output_type": "stream",
     "text": [
      "POLYGON ((-180 90, -180 -90, 180 -90, 180 90, -180 90))\n",
      "POLYGON ((-180 90, -180 -90, 180 -90, 180 90, -180 90), (-170 80, -170 -80, 170 80, 170 80, -170 80))\n"
     ]
    },
    {
     "data": {
      "text/plain": [
       "shapely.geometry.polygon.Polygon"
      ]
     },
     "execution_count": 15,
     "metadata": {},
     "output_type": "execute_result"
    }
   ],
   "source": [
    "# Let's see what we have now\n",
    "print(world)\n",
    "print(world_has_a_hole)\n",
    "type(world_has_a_hole)"
   ]
  },
  {
   "cell_type": "markdown",
   "metadata": {},
   "source": [
    "**Polygon attributes and functions**  "
   ]
  },
  {
   "cell_type": "code",
   "execution_count": 16,
   "metadata": {},
   "outputs": [],
   "source": [
    "# Get the centroid of the Polygon\n",
    "world_centroid = world.centroid\n",
    "\n",
    "# Get the area of the Polygon\n",
    "world_area = world.area\n",
    "\n",
    "# Get the bounds of the Polygon (i.e. bounding box)\n",
    "world_bbox = world.bounds\n",
    "\n",
    "# Get the exterior of the Polygon\n",
    "world_ext = world.exterior\n",
    "\n",
    "# Get the length of the exterior\n",
    "world_ext_length = world_ext.length"
   ]
  },
  {
   "cell_type": "code",
   "execution_count": 17,
   "metadata": {},
   "outputs": [
    {
     "name": "stdout",
     "output_type": "stream",
     "text": [
      "Poly centroid:  POINT (-0 -0)\n",
      "Poly area:  64800.0\n",
      "Poly bounding box:  (-180.0, -90.0, 180.0, 90.0)\n",
      "Poly exterior:  LINEARRING (-180 90, -180 -90, 180 -90, 180 90, -180 90)\n",
      "Poly exterior length:  1080.0\n"
     ]
    }
   ],
   "source": [
    "# Let's see what we have now\n",
    "print(\"Poly centroid: \", world_centroid)\n",
    "print(\"Poly area: \", world_area)\n",
    "print(\"Poly bounding box: \", world_bbox)\n",
    "print(\"Poly exterior: \", world_ext)\n",
    "print(\"Poly exterior length: \", world_ext_length)"
   ]
  },
  {
   "cell_type": "markdown",
   "metadata": {},
   "source": [
    "### Reading X/Y Coordinates from Text Files\n",
    "One of the \"classical\" problems in GIS is the situation where we have a set of coordinates in a file and we need to get them into a map (or into a GIS-software)."
   ]
  },
  {
   "cell_type": "code",
   "execution_count": 18,
   "metadata": {},
   "outputs": [
    {
     "name": "stdout",
     "output_type": "stream",
     "text": [
      "  Country or area Urban Agglomeration   Latitude   Longitude  Population_2015  \\\n",
      "0           Japan               Tokyo  35.689500  139.691710         38001018   \n",
      "1           India               Delhi  28.666670   77.216670         25703168   \n",
      "2           China            Shanghai  31.220000  121.460000         23740778   \n",
      "3          Brazil           S?o Paulo -23.550000  -46.640000         21066245   \n",
      "4           India     Mumbai (Bombay)  19.073975   72.880838         21042538   \n",
      "\n",
      "   Unnamed: 5  \n",
      "0         NaN  \n",
      "1         NaN  \n",
      "2         NaN  \n",
      "3         NaN  \n",
      "4         NaN  \n"
     ]
    }
   ],
   "source": [
    "# Import module\n",
    "import pandas as pd\n",
    "\n",
    "# load the file\n",
    "df = pd.read_csv('global-city-population-estimates.csv', sep=';', encoding='latin1')\n",
    "\n",
    "# this option tells pandas to print up to 20 columns\n",
    "pd.set_option('max_columns', 20)\n",
    "\n",
    "print(df.head(5))"
   ]
  },
  {
   "cell_type": "code",
   "execution_count": 19,
   "metadata": {},
   "outputs": [
    {
     "name": "stdout",
     "output_type": "stream",
     "text": [
      "  Country or area Urban Agglomeration   Latitude   Longitude  Population_2015  \\\n",
      "0           Japan               Tokyo  35.689500  139.691710         38001018   \n",
      "1           India               Delhi  28.666670   77.216670         25703168   \n",
      "2           China            Shanghai  31.220000  121.460000         23740778   \n",
      "3          Brazil           S?o Paulo -23.550000  -46.640000         21066245   \n",
      "4           India     Mumbai (Bombay)  19.073975   72.880838         21042538   \n",
      "\n",
      "   Unnamed: 5                              points  \n",
      "0         NaN           POINT (139.69171 35.6895)  \n",
      "1         NaN  POINT (77.21666999999999 28.66667)  \n",
      "2         NaN                POINT (121.46 31.22)  \n",
      "3         NaN               POINT (-46.64 -23.55)  \n",
      "4         NaN         POINT (72.880838 19.073975)  \n"
     ]
    }
   ],
   "source": [
    "# We make a function, that takes a row object coming from Pandas.\n",
    "# The single fields per row are addressed by their column name.\n",
    "def make_point(row):\n",
    "    return Point(row['Longitude'], row['Latitude'])\n",
    "\n",
    "# Go through every row, and make a point out of its lat and lon\n",
    "# by applying the function from above (downwards row by row -> axis=1)\n",
    "df['points'] = df.apply(make_point, axis=1)\n",
    "\n",
    "print(df.head(5))"
   ]
  },
  {
   "cell_type": "markdown",
   "metadata": {},
   "source": [
    "Geometry collections can be constructed in a following manner:"
   ]
  },
  {
   "cell_type": "code",
   "execution_count": 20,
   "metadata": {},
   "outputs": [],
   "source": [
    "# Import collections of geometric objects + bounding box\n",
    "from shapely.geometry import MultiPoint, MultiLineString, MultiPolygon, box\n",
    "\n",
    "# Create a MultiPoint object of our points 1, 2, and 3\n",
    "multi_point = MultiPoint([point1, point2, point3])\n",
    "\n",
    "# It is also possible to pass coordinate tuples inside\n",
    "multi_point2 = MultiPoint([(2.2, 4.2), (7.2, -25.1), (9.26, -2.456)])\n",
    "\n",
    "# We can also create a MultiLineString with two lines\n",
    "line1 = LineString([point1, point2])\n",
    "line2 = LineString([point2, point3])\n",
    "multi_line = MultiLineString([line1, line2])\n",
    "\n",
    "# MultiPolygon can be done in a similar manner\n",
    "# Let's divide our world into western and eastern hemispheres with a hole on the western hemisphere\n",
    "# Let's create the exterior of the western part of the world\n",
    "west_exterior = [(-180, 90), (-180, -90), (0, -90), (0, 90)]\n",
    "\n",
    "# Let's create a hole -> remember there can be multiple holes, thus we need to have a list of hole(s).\n",
    "# Here we have just one.\n",
    "west_hole = [[(-170, 80), (-170, -80), (-10, -80), (-10, 80)]]\n",
    "\n",
    "# Create the Polygon\n",
    "west_poly = Polygon(shell=west_exterior, holes=west_hole)\n",
    "\n",
    "# Let's create the Polygon of our Eastern hemisphere polygon using bounding box\n",
    "# For bounding box we need to specify the lower-left corner coordinates and upper-right coordinates\n",
    "min_x, min_y = 0, -90\n",
    "max_x, max_y = 180, 90\n",
    "\n",
    "# Create the polygon using box() function\n",
    "east_poly_box = box(minx=min_x, miny=min_y, maxx=max_x, maxy=max_y)\n",
    "\n",
    "# Let's create our MultiPolygon. We can pass multiple Polygon-objects \n",
    "# into our MultiPolygon as a list\n",
    "multi_poly = MultiPolygon([west_poly, east_poly_box])"
   ]
  },
  {
   "cell_type": "code",
   "execution_count": 21,
   "metadata": {},
   "outputs": [
    {
     "name": "stdout",
     "output_type": "stream",
     "text": [
      "MultiPoint:  MULTIPOINT (2.2 4.2, 7.2 -25.1, 9.26 -2.456)\n",
      "MultiLine:  MULTILINESTRING ((2.2 4.2, 7.2 -25.1), (7.2 -25.1, 9.26 -2.456))\n",
      "Bounding box:  POLYGON ((180 -90, 180 90, 0 90, 0 -90, 180 -90))\n",
      "MultiPoly:  MULTIPOLYGON (((-180 90, -180 -90, 0 -90, 0 90, -180 90), (-170 80, -170 -80, -10 -80, -10 80, -170 80)), ((180 -90, 180 90, 0 90, 0 -90, 180 -90)))\n"
     ]
    }
   ],
   "source": [
    "# Let's see what do we have\n",
    "print(\"MultiPoint: \", multi_point)\n",
    "print(\"MultiLine: \", multi_line)\n",
    "print(\"Bounding box: \", east_poly_box)\n",
    "print(\"MultiPoly: \", multi_poly)"
   ]
  },
  {
   "cell_type": "markdown",
   "metadata": {},
   "source": [
    "**Geometry collection-objects' Attributes and Functions**"
   ]
  },
  {
   "cell_type": "code",
   "execution_count": 22,
   "metadata": {},
   "outputs": [],
   "source": [
    "# Convex Hull of our MultiPoint \n",
    "convex = multi_point.convex_hull\n",
    "\n",
    "# How many lines do we have inside our MultiLineString ?\n",
    "lines_count = len(multi_line)\n",
    "\n",
    "# Let's calculate the area of our MultiPolygon\n",
    "multi_poly_area = multi_poly.area\n",
    "\n",
    "# We can also access different items inside our geometry collections.\n",
    "# We can e.g. access a single polygon from our MultiPolygon object\n",
    "# by referring to the index\n",
    "# Let's calculate the area of our Western hemisphere (with a hole) which is at index 0\n",
    "west_area = multi_poly[0].area\n",
    "\n",
    "# We can check if we have a \"valid\" MultiPolygon.\n",
    "# MultiPolygon is thought as valid if the individual polygons does not \n",
    "# intersect with each other. Here, because the polygons have a common-0-meridian\n",
    "# we should NOT have a valid polygon. This can be really useful information when\n",
    "# trying to find topological errors from our data\n",
    "valid = multi_poly.is_valid"
   ]
  },
  {
   "cell_type": "code",
   "execution_count": 23,
   "metadata": {},
   "outputs": [
    {
     "name": "stdout",
     "output_type": "stream",
     "text": [
      "Convex hull of the points:  POLYGON ((7.2 -25.1, 2.2 4.2, 9.26 -2.456, 7.2 -25.1))\n",
      "Number of lines in MultiLineString:  2\n",
      "Area of our MultiPolygon:  39200.0\n",
      "Area of our Western Hemisphere polygon:  6800.0\n",
      "Is polygon valid?:  False\n"
     ]
    }
   ],
   "source": [
    "# Let's see what do we have\n",
    "print(\"Convex hull of the points: \", convex)\n",
    "print(\"Number of lines in MultiLineString: \", lines_count)\n",
    "print(\"Area of our MultiPolygon: \", multi_poly_area)\n",
    "print(\"Area of our Western Hemisphere polygon: \", west_area)\n",
    "print(\"Is polygon valid?: \", valid)"
   ]
  },
  {
   "cell_type": "markdown",
   "metadata": {},
   "source": [
    "## Exercise 1\n",
    "### Working with Geometric Objects"
   ]
  },
  {
   "cell_type": "markdown",
   "metadata": {},
   "source": [
    "#### Problem 1: Creating basic geometries\n",
    "1. Create a function called `createPointGeom()` that has two parameters (`x_coord`, `y_coord`). Function should create a shapely Point geometry object and return that. Demonstrate the usage of the function by creating 3 Point objects with the function."
   ]
  },
  {
   "cell_type": "code",
   "execution_count": 24,
   "metadata": {},
   "outputs": [
    {
     "name": "stdout",
     "output_type": "stream",
     "text": [
      "<class 'shapely.geometry.point.Point'> POINT (3 5)\n",
      "<class 'shapely.geometry.point.Point'> POINT (2 4)\n",
      "<class 'shapely.geometry.point.Point'> POINT (5 6)\n"
     ]
    }
   ],
   "source": [
    "def createPointGeom(x_coord, y_coord):\n",
    "    return Point(x_coord, y_coord)\n",
    "\n",
    "point1 = createPointGeom(3, 5)\n",
    "point2 = createPointGeom(2, 4)\n",
    "point3 = createPointGeom(5, 6)\n",
    "\n",
    "print(type(point1), point1)\n",
    "print(type(point2), point2)\n",
    "print(type(point3), point3)"
   ]
  },
  {
   "cell_type": "markdown",
   "metadata": {},
   "source": [
    "2. Create a function called `createLineGeom()` that takes a list of Shapely Point objects as parameter and returns a LineString object of those input points. Ideally, the function should try to check that the input list really contains Shapely Point(s). Demonstrate the usage of the function by creating 2 LineString objects with the function (one with coordinate tuples, and one with list of shapely Points)"
   ]
  },
  {
   "cell_type": "code",
   "execution_count": 25,
   "metadata": {},
   "outputs": [
    {
     "name": "stdout",
     "output_type": "stream",
     "text": [
      "LINESTRING (3 5, 2 4, 5 6)\n",
      "LINESTRING (1 2, 3 3, 5 5)\n"
     ]
    },
    {
     "data": {
      "image/svg+xml": [
       "<svg xmlns=\"http://www.w3.org/2000/svg\" xmlns:xlink=\"http://www.w3.org/1999/xlink\" width=\"100.0\" height=\"100.0\" viewBox=\"0.84 1.84 4.32 3.3200000000000003\" preserveAspectRatio=\"xMinYMin meet\"><g transform=\"matrix(1,0,0,-1,0,7.0)\"><polyline fill=\"none\" stroke=\"#66cc99\" stroke-width=\"0.0864\" points=\"1.0,2.0 3.0,3.0 5.0,5.0\" opacity=\"0.8\" /></g></svg>"
      ],
      "text/plain": [
       "<shapely.geometry.linestring.LineString at 0x119112690>"
      ]
     },
     "execution_count": 25,
     "metadata": {},
     "output_type": "execute_result"
    }
   ],
   "source": [
    "# createLineGeom takes a list of Shapely Point objects\n",
    "# as parameter and returns a LineString object of those input points\n",
    "def createLineGeom(list_point):\n",
    "    lp = []\n",
    "    for point in list_point:\n",
    "        if type(point) == Point:\n",
    "            lp.append(point)\n",
    "        else:\n",
    "            lp.append(Point(point))\n",
    "    return LineString(lp)\n",
    "        \n",
    "# check with list of shapely Point\n",
    "list_point = [point1, point2, point3]\n",
    "line_geom_list_point = createLineGeom(list_point)\n",
    "print(line_geom_list_point)\n",
    "line_geom_list_point\n",
    "\n",
    "# check with list of coordinate tuples\n",
    "list_coord_tuples = [(1, 2), (3, 3), (5, 5)]\n",
    "line_geom_coord_tuples = createLineGeom(list_coord_tuples)\n",
    "print(line_geom_coord_tuples)\n",
    "line_geom_coord_tuples"
   ]
  },
  {
   "cell_type": "markdown",
   "metadata": {},
   "source": [
    "3. Create a function called `createPolyGeom()` that takes a list of coordinate tuples OR a list of Shapely Point objects and creates/returns a Polygon object of the input data. Both ways of passing the data to the function should be working. Demonstrate the usage of the function by passing data first with coordinate-tuples and then with Point objects."
   ]
  },
  {
   "cell_type": "code",
   "execution_count": 26,
   "metadata": {},
   "outputs": [
    {
     "name": "stdout",
     "output_type": "stream",
     "text": [
      "POLYGON ((10 20, 40 50, -10 20, 10 20))\n",
      "POLYGON ((1 2, 4 5, -1 2, 1 2))\n"
     ]
    },
    {
     "data": {
      "image/svg+xml": [
       "<svg xmlns=\"http://www.w3.org/2000/svg\" xmlns:xlink=\"http://www.w3.org/1999/xlink\" width=\"100.0\" height=\"100.0\" viewBox=\"-1.2 1.8 5.4 3.4000000000000004\" preserveAspectRatio=\"xMinYMin meet\"><g transform=\"matrix(1,0,0,-1,0,7.0)\"><path fill-rule=\"evenodd\" fill=\"#66cc99\" stroke=\"#555555\" stroke-width=\"0.10800000000000001\" opacity=\"0.6\" d=\"M 1.0,2.0 L 4.0,5.0 L -1.0,2.0 L 1.0,2.0 z\" /></g></svg>"
      ],
      "text/plain": [
       "<shapely.geometry.polygon.Polygon at 0x1190ffb90>"
      ]
     },
     "execution_count": 26,
     "metadata": {},
     "output_type": "execute_result"
    }
   ],
   "source": [
    "def createPolyGeom(list_of_points):\n",
    "    if all(isinstance(x, Point) for x in list_of_points):\n",
    "        return Polygon([p.x, p.y] for p in list_of_points)\n",
    "    elif all(isinstance(x, tuple) for x in list_of_points):\n",
    "        return Polygon(list_of_points)\n",
    "    else:\n",
    "        return\n",
    "\n",
    "# first, pass data with coordinate tuples\n",
    "coord_tuples = [(10, 20), (40, 50), (-10, 20), (10, 20)]\n",
    "poly_tuples = createPolyGeom(coord_tuples)\n",
    "print(poly_tuples)\n",
    "poly_tuples\n",
    "\n",
    "# second, pass data with point tuples\n",
    "point_tuples = [Point(1, 2), Point(4, 5), Point(-1, 2), Point(1, 2)]\n",
    "poly_point = createPolyGeom(point_tuples)\n",
    "print(poly_point)\n",
    "poly_point"
   ]
  },
  {
   "cell_type": "markdown",
   "metadata": {},
   "source": [
    "#### Problem 2: Attributes of Geometries\n",
    "1. Create a function called `getCentroid()` that takes any kind of Shapely's geometric object as input and returns a centroid of that geometry. Demonstrate the usage of the function."
   ]
  },
  {
   "cell_type": "code",
   "execution_count": 27,
   "metadata": {},
   "outputs": [
    {
     "name": "stdout",
     "output_type": "stream",
     "text": [
      "POINT (10 20)\n",
      "POINT (3.218270953309746 4.859135476654873)\n",
      "POINT (1.333333333333333 3)\n"
     ]
    }
   ],
   "source": [
    "def getCentroid(shape_object):\n",
    "    return shape_object.centroid\n",
    "\n",
    "# test for Point\n",
    "point_test = Point(10, 20)\n",
    "point_centroid = getCentroid(point_test)\n",
    "print(point_centroid)\n",
    "\n",
    "# test for LineString\n",
    "# use the previously created line_geom_list_point\n",
    "linestring_centroid = getCentroid(line_geom_list_point)\n",
    "print(linestring_centroid)\n",
    "\n",
    "# test for Polygon\n",
    "# use the previously created poly_point\n",
    "poly_centroid = getCentroid(poly_point)\n",
    "print(poly_centroid)"
   ]
  },
  {
   "cell_type": "markdown",
   "metadata": {},
   "source": [
    "2. Create a function called `getArea()` that takes a Shapely's Polygon object as input and returns the area of that geometry. Demonstrate the usage of the function."
   ]
  },
  {
   "cell_type": "code",
   "execution_count": 28,
   "metadata": {},
   "outputs": [
    {
     "name": "stdout",
     "output_type": "stream",
     "text": [
      "300.0\n"
     ]
    }
   ],
   "source": [
    "def getArea(polygon):\n",
    "    return polygon.area\n",
    "\n",
    "# demonstrate using poly_tuples\n",
    "poly_area = getArea(poly_tuples)\n",
    "print(poly_area)"
   ]
  },
  {
   "cell_type": "markdown",
   "metadata": {},
   "source": [
    "3. Create a function called `getLength()` that takes either a Shapely's LineString or Polygon object as input. Function should check the type of the input and returns the length of the line if input is LineString and length of the exterior ring if input is Polygon. If something else is passed to the function, it should tell the user -> `\"Error: LineString or Polygon geometries required!\"`. Demonstrate the usage of the function."
   ]
  },
  {
   "cell_type": "code",
   "execution_count": 29,
   "metadata": {},
   "outputs": [
    {
     "name": "stdout",
     "output_type": "stream",
     "text": [
      "5.0197648378370845\n",
      "120.73592581964586\n",
      "Error: LineString or Polygon geometries required!\n",
      "None\n"
     ]
    }
   ],
   "source": [
    "def getLength(input_object):\n",
    "    if type(input_object) == LineString:\n",
    "        return input_object.length\n",
    "    elif type(input_object) == Polygon:\n",
    "        return input_object.exterior.length\n",
    "    else:\n",
    "        print(\"Error: LineString or Polygon geometries required!\")\n",
    "        return\n",
    "    \n",
    "# Demonstrate using previously created LineString: line_geom_list_point\n",
    "line_len = getLength(line_geom_list_point)\n",
    "print(line_len)\n",
    "\n",
    "# Demonstrate using previously created Polygon: poly_tuples\n",
    "poly_ext_len = getLength(poly_tuples)\n",
    "print(poly_ext_len)\n",
    "\n",
    "# Demonstrate using false input\n",
    "false_len = getLength([(1,2), (2,3)])\n",
    "print(false_len)"
   ]
  },
  {
   "cell_type": "markdown",
   "metadata": {},
   "source": [
    "#### Problem 3: Reading coordinates from a file and creating a geometries\n",
    "1. Save the `travelTimes_2015_Helsinki.txt` \n",
    "2. We will use only 4 columns, i.e. 'from_x', 'from_y', 'to_x', 'to_y' from the data\n",
    "3. Iterate over the rows of our DataFrame and create Shapely Point objects for `orig_points` and `dest_points` representing the origin locations and destination locations of a travel row. Therefore, create two additional columns called `orig_points` and `dest_points` by applying a function that creates shapely points from the coordinates."
   ]
  },
  {
   "cell_type": "code",
   "execution_count": 30,
   "metadata": {},
   "outputs": [
    {
     "name": "stdout",
     "output_type": "stream",
     "text": [
      "   from_id    to_id      fromid_toid  route_number     at     from_x  \\\n",
      "0  5861326  5785640  5861326_5785640             1  08:10  24.970438   \n",
      "1  5861326  5785641  5861326_5785641             1  08:10  24.970438   \n",
      "2  5861326  5785642  5861326_5785642             1  08:10  24.970438   \n",
      "3  5861326  5785643  5861326_5785643             1  08:10  24.970438   \n",
      "4  5861326  5787544  5861326_5787544             1  08:10  24.970438   \n",
      "\n",
      "      from_y       to_x       to_y  total_route_time  route_time  \\\n",
      "0  60.311917  24.856034  60.399941             125.0        99.0   \n",
      "1  60.311917  24.860568  60.400014             123.0       102.0   \n",
      "2  60.311917  24.865102  60.400086             125.0       103.0   \n",
      "3  60.311917  24.869636  60.400159             129.0       107.0   \n",
      "4  60.311917  24.842582  60.397478             118.0        92.0   \n",
      "\n",
      "   route_distance  route_total_lines  \n",
      "0         22917.6                2.0  \n",
      "1         23123.5                2.0  \n",
      "2         23241.3                2.0  \n",
      "3         23534.2                2.0  \n",
      "4         22428.2                2.0  \n"
     ]
    }
   ],
   "source": [
    "# load the data to a dataframe\n",
    "helsinki_raw = 'travelTimes_2015_Helsinki.txt'\n",
    "helsinki_df = pd.read_csv(helsinki_raw, sep=';', encoding='latin1')\n",
    "print(helsinki_df.head(5))"
   ]
  },
  {
   "cell_type": "code",
   "execution_count": 31,
   "metadata": {},
   "outputs": [
    {
     "name": "stdout",
     "output_type": "stream",
     "text": [
      "   from_id    to_id      fromid_toid  route_number     at     from_x  \\\n",
      "0  5861326  5785640  5861326_5785640             1  08:10  24.970438   \n",
      "1  5861326  5785641  5861326_5785641             1  08:10  24.970438   \n",
      "2  5861326  5785642  5861326_5785642             1  08:10  24.970438   \n",
      "3  5861326  5785643  5861326_5785643             1  08:10  24.970438   \n",
      "4  5861326  5787544  5861326_5787544             1  08:10  24.970438   \n",
      "\n",
      "      from_y       to_x       to_y  total_route_time  route_time  \\\n",
      "0  60.311917  24.856034  60.399941             125.0        99.0   \n",
      "1  60.311917  24.860568  60.400014             123.0       102.0   \n",
      "2  60.311917  24.865102  60.400086             125.0       103.0   \n",
      "3  60.311917  24.869636  60.400159             129.0       107.0   \n",
      "4  60.311917  24.842582  60.397478             118.0        92.0   \n",
      "\n",
      "   route_distance  route_total_lines                    orig_points  \\\n",
      "0         22917.6                2.0  POINT (24.9704379 60.3119173)   \n",
      "1         23123.5                2.0  POINT (24.9704379 60.3119173)   \n",
      "2         23241.3                2.0  POINT (24.9704379 60.3119173)   \n",
      "3         23534.2                2.0  POINT (24.9704379 60.3119173)   \n",
      "4         22428.2                2.0  POINT (24.9704379 60.3119173)   \n",
      "\n",
      "                            dest_points  \n",
      "0         POINT (24.8560344 60.3999406)  \n",
      "1         POINT (24.8605682 60.4000135)  \n",
      "2          POINT (24.865102 60.4000863)  \n",
      "3         POINT (24.8696358 60.4001589)  \n",
      "4  POINT (24.8425817 60.39747779999999)  \n"
     ]
    }
   ],
   "source": [
    "# import numpy\n",
    "import numpy as np\n",
    "\n",
    "# createPoints is a function to make a Point object\n",
    "# from x and y coordinates\n",
    "def make_points(df):\n",
    "    from_list = []\n",
    "    to_list = []\n",
    "    # iterate through every row in dataframe\n",
    "    for _, row in df.iterrows():\n",
    "        from_point = Point(row['from_x'], row['from_y'])\n",
    "        to_point = Point(row['to_x'], row['to_y'])\n",
    "        from_list.append(from_point)\n",
    "        to_list.append(to_point)\n",
    "    return from_list, to_list\n",
    "\n",
    "# apply the make_points() to each row of helsinki_df\n",
    "helsinki_df['orig_points'], helsinki_df['dest_points'] = make_points(helsinki_df)\n",
    "print(helsinki_df.head(5))"
   ]
  },
  {
   "cell_type": "markdown",
   "metadata": {},
   "source": [
    "#### Problem 4: Creating LineStrings that represent the movements\n",
    "1. Create an additional column called `lines`: Iterate over the dataframe again, row by row, and use the orign and destination fields from above and create a Shapely LineString object between the origin and destination point and add as a new column to our dataframe.\n",
    "2. Find out what is the average Euclidean distance of all the origin-destination LineStrings that we just created and print it."
   ]
  },
  {
   "cell_type": "code",
   "execution_count": 32,
   "metadata": {},
   "outputs": [
    {
     "name": "stdout",
     "output_type": "stream",
     "text": [
      "   from_id    to_id      fromid_toid  route_number     at     from_x  \\\n",
      "0  5861326  5785640  5861326_5785640             1  08:10  24.970438   \n",
      "1  5861326  5785641  5861326_5785641             1  08:10  24.970438   \n",
      "2  5861326  5785642  5861326_5785642             1  08:10  24.970438   \n",
      "3  5861326  5785643  5861326_5785643             1  08:10  24.970438   \n",
      "4  5861326  5787544  5861326_5787544             1  08:10  24.970438   \n",
      "\n",
      "      from_y       to_x       to_y  total_route_time  route_time  \\\n",
      "0  60.311917  24.856034  60.399941             125.0        99.0   \n",
      "1  60.311917  24.860568  60.400014             123.0       102.0   \n",
      "2  60.311917  24.865102  60.400086             125.0       103.0   \n",
      "3  60.311917  24.869636  60.400159             129.0       107.0   \n",
      "4  60.311917  24.842582  60.397478             118.0        92.0   \n",
      "\n",
      "   route_distance  route_total_lines                    orig_points  \\\n",
      "0         22917.6                2.0  POINT (24.9704379 60.3119173)   \n",
      "1         23123.5                2.0  POINT (24.9704379 60.3119173)   \n",
      "2         23241.3                2.0  POINT (24.9704379 60.3119173)   \n",
      "3         23534.2                2.0  POINT (24.9704379 60.3119173)   \n",
      "4         22428.2                2.0  POINT (24.9704379 60.3119173)   \n",
      "\n",
      "                            dest_points  \\\n",
      "0         POINT (24.8560344 60.3999406)   \n",
      "1         POINT (24.8605682 60.4000135)   \n",
      "2          POINT (24.865102 60.4000863)   \n",
      "3         POINT (24.8696358 60.4001589)   \n",
      "4  POINT (24.8425817 60.39747779999999)   \n",
      "\n",
      "                                               lines  \n",
      "0  LINESTRING (24.9704379 60.3119173, 24.8560344 ...  \n",
      "1  LINESTRING (24.9704379 60.3119173, 24.8605682 ...  \n",
      "2  LINESTRING (24.9704379 60.3119173, 24.865102 6...  \n",
      "3  LINESTRING (24.9704379 60.3119173, 24.8696358 ...  \n",
      "4  LINESTRING (24.9704379 60.3119173, 24.8425817 ...  \n"
     ]
    }
   ],
   "source": [
    "# create a function to calculate the LineString\n",
    "def make_lineString(df):\n",
    "    linestring_list = []\n",
    "    for _, row in df.iterrows():\n",
    "        line = LineString([row['orig_points'], row['dest_points']])\n",
    "        linestring_list.append(line)\n",
    "    return linestring_list\n",
    "\n",
    "# modify the df\n",
    "helsinki_df['lines'] = make_lineString(helsinki_df)\n",
    "print(helsinki_df.head())"
   ]
  },
  {
   "cell_type": "code",
   "execution_count": 33,
   "metadata": {},
   "outputs": [
    {
     "name": "stdout",
     "output_type": "stream",
     "text": [
      "   from_id    to_id      fromid_toid  route_number     at     from_x  \\\n",
      "0  5861326  5785640  5861326_5785640             1  08:10  24.970438   \n",
      "1  5861326  5785641  5861326_5785641             1  08:10  24.970438   \n",
      "2  5861326  5785642  5861326_5785642             1  08:10  24.970438   \n",
      "3  5861326  5785643  5861326_5785643             1  08:10  24.970438   \n",
      "4  5861326  5787544  5861326_5787544             1  08:10  24.970438   \n",
      "\n",
      "      from_y       to_x       to_y  total_route_time  route_time  \\\n",
      "0  60.311917  24.856034  60.399941             125.0        99.0   \n",
      "1  60.311917  24.860568  60.400014             123.0       102.0   \n",
      "2  60.311917  24.865102  60.400086             125.0       103.0   \n",
      "3  60.311917  24.869636  60.400159             129.0       107.0   \n",
      "4  60.311917  24.842582  60.397478             118.0        92.0   \n",
      "\n",
      "   route_distance  route_total_lines                    orig_points  \\\n",
      "0         22917.6                2.0  POINT (24.9704379 60.3119173)   \n",
      "1         23123.5                2.0  POINT (24.9704379 60.3119173)   \n",
      "2         23241.3                2.0  POINT (24.9704379 60.3119173)   \n",
      "3         23534.2                2.0  POINT (24.9704379 60.3119173)   \n",
      "4         22428.2                2.0  POINT (24.9704379 60.3119173)   \n",
      "\n",
      "                            dest_points  \\\n",
      "0         POINT (24.8560344 60.3999406)   \n",
      "1         POINT (24.8605682 60.4000135)   \n",
      "2          POINT (24.865102 60.4000863)   \n",
      "3         POINT (24.8696358 60.4001589)   \n",
      "4  POINT (24.8425817 60.39747779999999)   \n",
      "\n",
      "                                               lines  euclid_distance  \n",
      "0  LINESTRING (24.9704379 60.3119173, 24.8560344 ...         0.144348  \n",
      "1  LINESTRING (24.9704379 60.3119173, 24.8605682 ...         0.140827  \n",
      "2  LINESTRING (24.9704379 60.3119173, 24.865102 6...         0.137366  \n",
      "3  LINESTRING (24.9704379 60.3119173, 24.8696358 ...         0.133969  \n",
      "4  LINESTRING (24.9704379 60.3119173, 24.8425817 ...         0.153843  \n"
     ]
    }
   ],
   "source": [
    "# calc_euclid_distance is a function to calculate euclidean distance of LineStrings\n",
    "def calcEuclidDistance(df):\n",
    "    euclid_dist = []\n",
    "    for _, row in df.iterrows():\n",
    "        dist_len = row['lines'].length\n",
    "        euclid_dist.append(dist_len)\n",
    "    return euclid_dist\n",
    "        \n",
    "# create another column euclid distance\n",
    "helsinki_df['euclid_distance'] = calcEuclidDistance(helsinki_df)\n",
    "print(helsinki_df.head(5))"
   ]
  },
  {
   "cell_type": "code",
   "execution_count": 37,
   "metadata": {},
   "outputs": [
    {
     "name": "stdout",
     "output_type": "stream",
     "text": [
      "The average Euclidean distance of all orig-dest pair is:  0.2150222482322721\n"
     ]
    }
   ],
   "source": [
    "# calculate the mean\n",
    "print(\"The average Euclidean distance of all orig-dest pair is: \", helsinki_df['euclid_distance'].mean())"
   ]
  },
  {
   "cell_type": "code",
   "execution_count": null,
   "metadata": {},
   "outputs": [],
   "source": []
  }
 ],
 "metadata": {
  "kernelspec": {
   "display_name": "Python 3",
   "language": "python",
   "name": "python3"
  },
  "language_info": {
   "codemirror_mode": {
    "name": "ipython",
    "version": 3
   },
   "file_extension": ".py",
   "mimetype": "text/x-python",
   "name": "python",
   "nbconvert_exporter": "python",
   "pygments_lexer": "ipython3",
   "version": "3.7.4"
  }
 },
 "nbformat": 4,
 "nbformat_minor": 4
}
